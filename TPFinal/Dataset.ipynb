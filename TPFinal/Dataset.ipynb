{
 "cells": [
  {
   "cell_type": "code",
   "execution_count": 4,
   "id": "1311c9b0-462f-4964-870f-1b1533e36dd1",
   "metadata": {},
   "outputs": [],
   "source": [
    "import requests\n",
    "from bs4 import BeautifulSoup\n",
    "import json"
   ]
  },
  {
   "cell_type": "code",
   "execution_count": 13,
   "id": "34c450b5-3e24-47f1-85fb-3e3b02a3480a",
   "metadata": {},
   "outputs": [],
   "source": [
    "headers = {\n",
    "    \"User-Agent\": \"Mozilla/5.0 (X11; Ubuntu; Linux x86_64; rv:107.0) Gecko/20100101 Firefox/107.0\",\n",
    "}\n",
    "\n",
    "def get_papers_rec(url, papers, year):\n",
    "    realurl = url + f\"?skip={len(papers)}&show={2000}\"\n",
    "\n",
    "    soup = BeautifulSoup(requests.get(realurl, headers=headers).content, \"html.parser\")\n",
    "    \n",
    "    \n",
    "    total_entries = int(soup.find('small').text.split(\"total of \")[1].split(\" entries\")[0])\n",
    "\n",
    "    for paper in soup.select(\"dd\"):\n",
    "        jspaper = {\n",
    "            \"title\": paper.find(class_='list-title').get_text(strip=True)[6:],\n",
    "            \"authors\": [author.get_text() for author in paper.find(class_='list-authors').select(\"a\")],\n",
    "            \"subject\": paper.find(class_='primary-subject').get_text(strip=True).split(\" (\")[0],\n",
    "        }\n",
    "        papers.append(jspaper)\n",
    "\n",
    "    if len(papers) == total_entries:\n",
    "        print(f\"[Y{year}] Done.\")\n",
    "        return\n",
    "    else:\n",
    "        print(f\"[Y{year}]\\t{len(papers)} / {total_entries}\")\n",
    "        get_papers_rec(url, papers, year)\n",
    "\n",
    "def get_papers(year):\n",
    "    last_two_dig = str(year)[2:4]\n",
    "    papers = []\n",
    "    url = f\"https://arxiv.org/list/physics/{last_two_dig}\"\n",
    "    print(f\"[Y{year}] Starting...\")\n",
    "    get_papers_rec(url, papers, year)\n",
    "    return papers"
   ]
  },
  {
   "cell_type": "code",
   "execution_count": 14,
   "id": "23d187b5-0af9-4c87-87b0-cb7586ca1c14",
   "metadata": {},
   "outputs": [
    {
     "name": "stdout",
     "output_type": "stream",
     "text": [
      "[Y2022] Starting...\n",
      "[Y2022]\t2000 / 20179\n",
      "[Y2022]\t4000 / 20179\n",
      "[Y2022]\t6000 / 20179\n",
      "[Y2022]\t8000 / 20179\n",
      "[Y2022]\t10000 / 20179\n",
      "[Y2022]\t12000 / 20179\n",
      "[Y2022]\t14000 / 20179\n",
      "[Y2022]\t16000 / 20179\n",
      "[Y2022]\t18000 / 20179\n",
      "[Y2022]\t20000 / 20179\n",
      "[Y2022] Done.\n"
     ]
    }
   ],
   "source": [
    "for year in range(2022, 2023):\n",
    "    with open(f\"data/papers_{year}.json\", \"w\") as f:\n",
    "        papers_y = get_papers(year)\n",
    "        json.dump(papers_y, f, ensure_ascii=False, indent=4)"
   ]
  },
  {
   "cell_type": "code",
   "execution_count": null,
   "id": "e6675d2c-5bf0-411d-99d8-90f169b55bcd",
   "metadata": {},
   "outputs": [],
   "source": []
  }
 ],
 "metadata": {
  "kernelspec": {
   "display_name": "Python 3 (ipykernel)",
   "language": "python",
   "name": "python3"
  },
  "language_info": {
   "codemirror_mode": {
    "name": "ipython",
    "version": 3
   },
   "file_extension": ".py",
   "mimetype": "text/x-python",
   "name": "python",
   "nbconvert_exporter": "python",
   "pygments_lexer": "ipython3",
   "version": "3.10.12"
  }
 },
 "nbformat": 4,
 "nbformat_minor": 5
}
