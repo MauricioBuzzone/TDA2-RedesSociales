{
 "cells": [
  {
   "cell_type": "code",
   "execution_count": 1,
   "id": "6759af06-f00c-4bc5-b62e-b7107455e1cb",
   "metadata": {},
   "outputs": [],
   "source": [
    "import networkx as nx\n",
    "import csv"
   ]
  },
  {
   "cell_type": "code",
   "execution_count": null,
   "id": "e164521c-da03-4514-93e9-2354bee15b05",
   "metadata": {},
   "outputs": [],
   "source": [
    "network = nx.DiGraph() \n",
    "with open(\"data/nodes2.csv\", \"r\") as nodes, open(\"data/edges.csv\", \"r\") as edges:\n",
    "    reader = csv.reader(nodes, delimiter=',')\n",
    "    next(reader, None) # skip header\n",
    "    for row in reader:\n",
    "        id = row[0]\n",
    "        network.add_node(id, name=row[1], popularity=row[2], followers=row[3], sex=row[5], genre=row[6])\n",
    "    reader = csv.reader(edges, delimiter=';')\n",
    "    next(reader, None)\n",
    "    for source, target in reader:\n",
    "        network.add_edge(source, target)"
   ]
  }
 ],
 "metadata": {
  "kernelspec": {
   "display_name": "Python 3 (ipykernel)",
   "language": "python",
   "name": "python3"
  },
  "language_info": {
   "codemirror_mode": {
    "name": "ipython",
    "version": 3
   },
   "file_extension": ".py",
   "mimetype": "text/x-python",
   "name": "python",
   "nbconvert_exporter": "python",
   "pygments_lexer": "ipython3",
   "version": "3.10.12"
  }
 },
 "nbformat": 4,
 "nbformat_minor": 5
}
